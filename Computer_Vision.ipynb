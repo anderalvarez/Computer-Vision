{
  "nbformat": 4,
  "nbformat_minor": 0,
  "metadata": {
    "colab": {
      "provenance": [],
      "authorship_tag": "ABX9TyOYlGF4zCwA1Zl1KBaYKG52",
      "include_colab_link": true
    },
    "kernelspec": {
      "name": "python3",
      "display_name": "Python 3"
    },
    "language_info": {
      "name": "python"
    }
  },
  "cells": [
    {
      "cell_type": "markdown",
      "metadata": {
        "id": "view-in-github",
        "colab_type": "text"
      },
      "source": [
        "<a href=\"https://colab.research.google.com/github/anderalvarez/Computer-Vision/blob/main/Computer_Vision.ipynb\" target=\"_parent\"><img src=\"https://colab.research.google.com/assets/colab-badge.svg\" alt=\"Open In Colab\"/></a>"
      ]
    },
    {
      "cell_type": "markdown",
      "source": [
        "- Tensors are Multi Dimensional Arrays\n",
        "- An array is an ordered arrangement of numbers"
      ],
      "metadata": {
        "id": "o7GlcbZDc-hE"
      }
    },
    {
      "cell_type": "code",
      "execution_count": 2,
      "metadata": {
        "id": "-Lcze5_NY77-"
      },
      "outputs": [],
      "source": [
        "import tensorflow as tf"
      ]
    },
    {
      "cell_type": "code",
      "source": [
        "tensor_zero_d = tf.constant(4)\n",
        "print(tensor_zero_d)"
      ],
      "metadata": {
        "colab": {
          "base_uri": "https://localhost:8080/"
        },
        "id": "_bcQI6hPY_BN",
        "outputId": "2ea75c6e-0fe0-4f1b-a69c-148a1979945a"
      },
      "execution_count": null,
      "outputs": [
        {
          "output_type": "stream",
          "name": "stdout",
          "text": [
            "tf.Tensor(4, shape=(), dtype=int32)\n"
          ]
        }
      ]
    },
    {
      "cell_type": "code",
      "source": [
        "tensor_one_d = tf.constant([1,2,3,7,8,9])\n",
        "print(tensor_one_d)"
      ],
      "metadata": {
        "colab": {
          "base_uri": "https://localhost:8080/"
        },
        "id": "x4I8QPuhZe8O",
        "outputId": "5b46e1ee-7242-4674-f30d-e2d3b243eaec"
      },
      "execution_count": null,
      "outputs": [
        {
          "output_type": "stream",
          "name": "stdout",
          "text": [
            "tf.Tensor([1 2 3 7 8 9], shape=(6,), dtype=int32)\n"
          ]
        }
      ]
    },
    {
      "cell_type": "code",
      "source": [
        "tensor_two_d = tf.constant(\n",
        "    [\n",
        "      [1,2,3],\n",
        "      [4,5,6],\n",
        "      [7,8,9],\n",
        "      [0,0,0]\n",
        "    ]\n",
        ")\n",
        "print(tensor_two_d)"
      ],
      "metadata": {
        "colab": {
          "base_uri": "https://localhost:8080/"
        },
        "id": "eFWAdrrZZsiv",
        "outputId": "1124cd1e-f845-4962-b922-bd99d3c01796"
      },
      "execution_count": null,
      "outputs": [
        {
          "output_type": "stream",
          "name": "stdout",
          "text": [
            "tf.Tensor(\n",
            "[[1 2 3]\n",
            " [4 5 6]\n",
            " [7 8 9]\n",
            " [0 0 0]], shape=(4, 3), dtype=int32)\n"
          ]
        }
      ]
    },
    {
      "cell_type": "code",
      "source": [
        "tensor_three_d = tf.constant(\n",
        "    [\n",
        "        [[1,2,3],\n",
        "        [4,5,6]]\n",
        "        ,\n",
        "        [[7,8,9],\n",
        "        [0,0,0]]\n",
        "        ,\n",
        "        [[10,11,12],\n",
        "        [12,11,10]]\n",
        "        ,\n",
        "        [[1,2,3],\n",
        "        [4,5,6]]\n",
        "    ]\n",
        ")\n",
        "print(tensor_three_d)"
      ],
      "metadata": {
        "colab": {
          "base_uri": "https://localhost:8080/"
        },
        "id": "Vg4rcEP-cMYS",
        "outputId": "3f739e75-198a-4b87-a738-b70d728ceb66"
      },
      "execution_count": null,
      "outputs": [
        {
          "output_type": "stream",
          "name": "stdout",
          "text": [
            "tf.Tensor(\n",
            "[[[ 1  2  3]\n",
            "  [ 4  5  6]]\n",
            "\n",
            " [[ 7  8  9]\n",
            "  [ 0  0  0]]\n",
            "\n",
            " [[10 11 12]\n",
            "  [12 11 10]]\n",
            "\n",
            " [[ 1  2  3]\n",
            "  [ 4  5  6]]], shape=(4, 2, 3), dtype=int32)\n"
          ]
        }
      ]
    },
    {
      "cell_type": "markdown",
      "source": [
        "Metodo Eye genera la matriz Identidad (Diagonal principal = 1, el resto 0)"
      ],
      "metadata": {
        "id": "tXFj3HxChNzQ"
      }
    },
    {
      "cell_type": "code",
      "source": [
        "eye_tensor = tf.eye(\n",
        "    num_rows = 4,\n",
        "    num_columns=None,\n",
        "    batch_shape=[3,],\n",
        "    dtype=tf.dtypes.float32,\n",
        "    name=None\n",
        ")\n",
        "\n",
        "print(eye_tensor)"
      ],
      "metadata": {
        "colab": {
          "base_uri": "https://localhost:8080/"
        },
        "id": "DKhkh7ZPe6cX",
        "outputId": "db45b3d8-024a-4bc5-cf48-1cf14db667d0"
      },
      "execution_count": 6,
      "outputs": [
        {
          "output_type": "stream",
          "name": "stdout",
          "text": [
            "tf.Tensor(\n",
            "[[[1. 0. 0. 0.]\n",
            "  [0. 1. 0. 0.]\n",
            "  [0. 0. 1. 0.]\n",
            "  [0. 0. 0. 1.]]\n",
            "\n",
            " [[1. 0. 0. 0.]\n",
            "  [0. 1. 0. 0.]\n",
            "  [0. 0. 1. 0.]\n",
            "  [0. 0. 0. 1.]]\n",
            "\n",
            " [[1. 0. 0. 0.]\n",
            "  [0. 1. 0. 0.]\n",
            "  [0. 0. 1. 0.]\n",
            "  [0. 0. 0. 1.]]], shape=(3, 4, 4), dtype=float32)\n"
          ]
        }
      ]
    },
    {
      "cell_type": "markdown",
      "source": [
        "El metodo fill te crea una matriz rellenada con el dato que le indiques"
      ],
      "metadata": {
        "id": "aQsUlPy6hTdX"
      }
    },
    {
      "cell_type": "code",
      "source": [
        "tensor_filled = tf.fill(\n",
        "    [2,3], 4, name=None, layout=None\n",
        ")\n",
        "print(tensor_filled)"
      ],
      "metadata": {
        "colab": {
          "base_uri": "https://localhost:8080/"
        },
        "id": "1223iMfBhYe3",
        "outputId": "a92603f5-412d-4fa8-e634-383e3c3a69a9"
      },
      "execution_count": 8,
      "outputs": [
        {
          "output_type": "stream",
          "name": "stdout",
          "text": [
            "tf.Tensor(\n",
            "[[4 4 4]\n",
            " [4 4 4]], shape=(2, 3), dtype=int32)\n"
          ]
        }
      ]
    }
  ]
}